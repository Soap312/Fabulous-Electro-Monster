{
 "cells": [
  {
   "cell_type": "markdown",
   "metadata": {},
   "source": [
    "We load the packages."
   ]
  },
  {
   "cell_type": "code",
   "execution_count": 126,
   "metadata": {},
   "outputs": [],
   "source": [
    "import numpy as np\n",
    "import matplotlib.pyplot as plt"
   ]
  },
  {
   "cell_type": "markdown",
   "metadata": {},
   "source": [
    "Then, one defines the domain here. I think the easiest way to do this is to hardcode the domain once, then refine it.\n",
    "\n",
    "1. square\n",
    "2. triangle\n",
    "3. L-shaped\n",
    "\n",
    "I used a domain of size 1 in x, that I can easily scale be dividing by the number of elements in x (L) of size h such that L\\*h=1 always. However there are (L+1)^2 nodes here for a square. There are therefore L\\*H elements in this construction.\n",
    "\n",
    "Then, the array coordinates is of shape ((L+1)\\*(H+1), 2), where each row is (x-position, y-position). I try to go anticlockwise for everynodes."
   ]
  },
  {
   "cell_type": "code",
   "execution_count": 127,
   "metadata": {},
   "outputs": [
    {
     "name": "stdout",
     "output_type": "stream",
     "text": [
      "[[0.  0. ]\n",
      " [0.5 0. ]\n",
      " [1.  0. ]\n",
      " [0.  0.5]\n",
      " [0.5 0.5]\n",
      " [1.  0.5]\n",
      " [0.  1. ]\n",
      " [0.5 1. ]\n",
      " [1.  1. ]]\n"
     ]
    }
   ],
   "source": [
    "#number of elements in x and y\n",
    "L=2\n",
    "H=2\n",
    "coordinates1=np.zeros(((L+1)*(H+1),2))\n",
    "i=0\n",
    "while True:\n",
    "    coordinates1[i,0]=(i%(L+1))/L\n",
    "    coordinates1[i,1]=i//(L+1)/L\n",
    "    i+=1\n",
    "    if i==(L+1)*(H+1):\n",
    "        break\n",
    "print(coordinates1)"
   ]
  },
  {
   "cell_type": "markdown",
   "metadata": {},
   "source": [
    "Now, it is time for the elements. So every element is defined counterclockwise. The array elements3 is of shape (2\\*L\\*H,3), where each row is like this (node1, node2, node3)."
   ]
  },
  {
   "cell_type": "code",
   "execution_count": 128,
   "metadata": {},
   "outputs": [
    {
     "name": "stdout",
     "output_type": "stream",
     "text": [
      "[[0 1 3]\n",
      " [1 4 3]\n",
      " [1 2 4]\n",
      " [2 5 4]\n",
      " [3 4 6]\n",
      " [4 7 6]\n",
      " [4 5 7]\n",
      " [5 8 7]]\n"
     ]
    }
   ],
   "source": [
    "\"\"\"\n",
    "elements3=np.zeros((2*L*H,4))\n",
    "i=0\n",
    "while True:\n",
    "    elements3[i,0]=i\n",
    "    if (i-(i//(L)))%(L)==0:\n",
    "        elements3[i,1]=i-(i//(L+1))\n",
    "    if (i-(i//(L)))%(L)!=0:\n",
    "        elements3[i,1]=0\n",
    "    elements3[i,2]=(i+1)%2+i%2*(L+1)\n",
    "    elements3[i,3]=1\n",
    "    i+=1\n",
    "    if i==L*H*2:\n",
    "        break\n",
    "\"\"\"\n",
    "elements3=np.array([[0,1,3],[1,4,3],[1,2,4],[2,5,4],[3,4,6],[4,7,6],[4,5,7],[5,8,7]])\n",
    "print(elements3)"
   ]
  },
  {
   "cell_type": "markdown",
   "metadata": {},
   "source": [
    "Suppose now that the given square is such that on the sides it is the Neumann BC and on the top and bottom the Dirichlet BC. Both are size (2\\*H,2) and (2\\*L,2) respectively."
   ]
  },
  {
   "cell_type": "code",
   "execution_count": 159,
   "metadata": {},
   "outputs": [],
   "source": [
    "\"these are triangle 0, 3, 4, 7 resp.\" \n",
    "neumannBC=np.array([[0,3],[0,0],[0,0],[2,5],[3,6],[0,0],[0,0],[5,8]])\n",
    "\"these are triangle 0, 2, 5, 7 resp.\"\n",
    "dirichletBC=np.array([[0,1],[0,0],[1,2],[0,0],[0,0],[6,7],[0,0],[7,8]])"
   ]
  },
  {
   "cell_type": "markdown",
   "metadata": {},
   "source": [
    "We can now implement the basis function, eta:"
   ]
  },
  {
   "cell_type": "code",
   "execution_count": 153,
   "metadata": {},
   "outputs": [],
   "source": [
    "def eta(i,j,x,y):\n",
    "    \"where i is the index of the triangle in 0 to 7, j is the index of the function in 0 to 2 and (x,y) are the\\\n",
    "    coordinates of the point within the triangle\"\n",
    "    n=np.linalg.det([[1,x,y],\\\n",
    "                               [1,coordinates1[elements3[i,(j+1)%3],0],coordinates1[elements3[i,(j+1)%3],1]],\\\n",
    "                               [1,coordinates1[elements3[i,(j+2)%3],0],coordinates1[elements3[i,(j+2)%3],1]]])/\\\n",
    "                np.linalg.det([[1,coordinates1[elements3[i,(j)%3],0],coordinates1[elements3[i,(j)%3],1]],\\\n",
    "                               [1,coordinates1[elements3[i,(j+1)%3],0],coordinates1[elements3[i,(j+1)%3],1]],\\\n",
    "                               [1,coordinates1[elements3[i,(j+2)%3],0],coordinates1[elements3[i,(j+2)%3],1]]])\n",
    "    return n\n",
    "\n",
    "def area(i):\n",
    "    \"where i is the index of the triangle in 0 to 7\"\n",
    "    T=(1/2)*np.linalg.det([[coordinates1[elements3[i,1],0]-coordinates1[elements3[i,0],0],\\\n",
    "                            coordinates1[elements3[i,2],0]-coordinates1[elements3[i,0],0]],\\\n",
    "                           [coordinates1[elements3[i,1],1]-coordinates1[elements3[i,0],1],\\\n",
    "                            coordinates1[elements3[i,2],1]-coordinates1[elements3[i,0],1]]])\n",
    "    return T\n",
    "\n",
    "def Deta(i,j,x,y):\n",
    "    \"where i is the index of the triangle in 0 to 7, j is the index of the function in 0 to 2 and (x,y) are the\\\n",
    "    coordinates of the point within the triangle\"\n",
    "    dn=(1/2/area(i))*np.array([coordinates1[elements3[i,(j+1)%3],1]-coordinates1[elements3[i,(j+2)%3],1],\\\n",
    "                 coordinates1[elements3[i,(j+2)%3],0]-coordinates1[elements3[i,(j+1)%3],0]])\n",
    "    return dn"
   ]
  },
  {
   "cell_type": "markdown",
   "metadata": {},
   "source": [
    "And now we can do the stiffness matrix:"
   ]
  },
  {
   "cell_type": "code",
   "execution_count": 154,
   "metadata": {},
   "outputs": [
    {
     "name": "stdout",
     "output_type": "stream",
     "text": [
      "[[ 0.5  -0.25 -0.25]\n",
      " [-0.25  0.25  0.  ]\n",
      " [-0.25  0.    0.25]] \n",
      " [[ 0.5 -0.5  0. ]\n",
      " [-0.5  1.  -0.5]\n",
      " [ 0.  -0.5  0.5]]\n"
     ]
    }
   ],
   "source": [
    "def Smat(i):\n",
    "    \"where i is the number of the triangle between 0 and 7\"\n",
    "    G=np.dot(np.linalg.inv(np.array([[1,1,1],\\\n",
    "                [coordinates1[elements3[i,0],0],coordinates1[elements3[i,1],0],coordinates1[elements3[i,2],0]],\\\n",
    "                [coordinates1[elements3[i,0],1],coordinates1[elements3[i,1],1],coordinates1[elements3[i,2],1]]])),\\\n",
    "             np.array([[0,0],[1,0],[0,1]]))\n",
    "    M=area(i)/2*np.dot(G,G.T)\n",
    "    return M\n",
    "\n",
    "def Smat2(i,j,k):\n",
    "    M=area(i)*np.dot(Deta(i,j,coordinates1[elements3[i,(j)%3],0],coordinates1[elements3[i,(j)%3],1]),\\\n",
    "                     Deta(i,k,coordinates1[elements3[i,(k)%3],0],coordinates1[elements3[i,(k)%3],1]).T)\n",
    "    return M\n",
    "print(Smat(0),\"\\n\",np.array([[Smat2(1,0,0),Smat2(1,1,0),Smat2(1,2,0)],\\\n",
    "                      [Smat2(1,0,1),Smat2(1,1,1),Smat2(1,2,1)],\\\n",
    "                      [Smat2(1,0,2),Smat2(1,1,2),Smat2(1,2,2)]]))"
   ]
  },
  {
   "cell_type": "markdown",
   "metadata": {},
   "source": [
    "Now, we can deal with the f part of the equation; assume that f=1 everywhere, for starters. (the code still works for an f that is not a constant, since I made the dependance on each triangle's centroid explicit) We do similarly with the Neumann boundary condition, and with Dirichlet BC"
   ]
  },
  {
   "cell_type": "code",
   "execution_count": 155,
   "metadata": {},
   "outputs": [],
   "source": [
    "def f(x,y):\n",
    "    \"Insert here the proper function that one wants\"\n",
    "    return np.sin(x)*np.sin(y)\n",
    "\n",
    "def g(x,y):\n",
    "    \"Insert here the proper function that one wants\"\n",
    "    return x*y\n",
    "\n",
    "def ud(x,y):\n",
    "    \"insert here the proper dirichlet bc\"\n",
    "    return 0\n",
    "\n",
    "def force(i):\n",
    "    centerX=1/3*(coordinates1[elements3[i,0],0]+coordinates1[elements3[i,1],0]+coordinates1[elements3[i,2],0])\n",
    "    centerY=1/3*(coordinates1[elements3[i,0],1]+coordinates1[elements3[i,1],1]+coordinates1[elements3[i,2],1])\n",
    "    intf=1/6*np.linalg.det([[coordinates1[elements3[i,1],0]-coordinates1[elements3[i,0],0],\\\n",
    "                          coordinates1[elements3[i,2],0]-coordinates1[elements3[i,0],0]],\\\n",
    "                         [coordinates1[elements3[i,1],1]-coordinates1[elements3[i,0],1],\\\n",
    "                          coordinates1[elements3[i,2],1]-coordinates1[elements3[i,0],1]]])*f(centerX,centerY)\n",
    "    return intf\n",
    "\n",
    "def neumann(i):\n",
    "    \"where i is the triangle index ranging from 0 to 3 representing triangles (0, 4, 3, 7), note that not all triangles have an edge with a neumann BC\"\n",
    "    centerX=(coordinates1[neumannBC[i,1],0]+coordinates1[neumannBC[i,0],0])/2\n",
    "    centerY=(coordinates1[neumannBC[i,1],1]+coordinates1[neumannBC[i,0],1])/2\n",
    "    intg=(coordinates1[neumannBC[i,1],1]-coordinates1[neumannBC[i,0],1])/2*g(centerX,centerY)\n",
    "    return intg"
   ]
  },
  {
   "cell_type": "markdown",
   "metadata": {},
   "source": [
    "Now we have to define the RHS and the LHS in order to compute the Dirichlet BC:"
   ]
  },
  {
   "cell_type": "code",
   "execution_count": 172,
   "metadata": {},
   "outputs": [
    {
     "ename": "SyntaxError",
     "evalue": "invalid syntax (<ipython-input-172-27432415f8af>, line 11)",
     "output_type": "error",
     "traceback": [
      "\u001b[0;36m  File \u001b[0;32m\"<ipython-input-172-27432415f8af>\"\u001b[0;36m, line \u001b[0;32m11\u001b[0m\n\u001b[0;31m    b[i]=force(i)+neumann(i)-np.dot(A[i],u[i])\u001b[0m\n\u001b[0m    ^\u001b[0m\n\u001b[0;31mSyntaxError\u001b[0m\u001b[0;31m:\u001b[0m invalid syntax\n"
     ]
    }
   ],
   "source": [
    "\"some basic initialzation\"\n",
    "A=np.zeros((len(elements3),3,3))\n",
    "b=np.zeros(len(elements3))\n",
    "u=np.zeros(len(elements3))\n",
    "\n",
    "for i in np.arange(len(elements3)):\n",
    "    A[i]=Smat(i)\n",
    "    \"dirichlet BC\"\n",
    "    if dirichletBC[i,1]-dirichletBC[i,0]>0:\n",
    "        u[i]=ud(coordinates[dirichletBC[i,0],coordinates[dirichletBC[i,1]]\n",
    "    b[i]=force(i)+neumann(i)-np.dot(A[i],u[i])\n",
    "    \"solution computation\"\n",
    "    u[i]=np.dot(np.linalg.inv(A[i]),b[i])\n",
    "    "
   ]
  },
  {
   "cell_type": "markdown",
   "metadata": {},
   "source": [
    "I know that what I did doesn't work, I realised it 5 minutes before the due time... I mixed up two indices and that is why it doesn't work..."
   ]
  },
  {
   "cell_type": "code",
   "execution_count": null,
   "metadata": {},
   "outputs": [],
   "source": []
  }
 ],
 "metadata": {
  "kernelspec": {
   "display_name": "Python 3",
   "language": "python",
   "name": "python3"
  },
  "language_info": {
   "codemirror_mode": {
    "name": "ipython",
    "version": 3
   },
   "file_extension": ".py",
   "mimetype": "text/x-python",
   "name": "python",
   "nbconvert_exporter": "python",
   "pygments_lexer": "ipython3",
   "version": "3.6.10"
  }
 },
 "nbformat": 4,
 "nbformat_minor": 4
}
