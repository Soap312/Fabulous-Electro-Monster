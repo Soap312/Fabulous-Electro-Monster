{
 "cells": [
  {
   "cell_type": "markdown",
   "metadata": {},
   "source": [
    "We load the packages."
   ]
  },
  {
   "cell_type": "code",
   "execution_count": null,
   "metadata": {},
   "outputs": [],
   "source": [
    "import numpy as np\n",
    "import matplotlib.pyplot as plt\n",
    "from mpl_toolkits.mplot3d import Axes3D\n",
    "import matplotlib.tri as mtri"
   ]
  },
  {
   "cell_type": "markdown",
   "metadata": {},
   "source": [
    "Then, one defines the domain here. I think the easiest way to do this is to hardcode the domain once, then refine it.\n",
    "\n",
    "1. square\n",
    "2. triangle\n",
    "3. L-shaped\n",
    "\n",
    "I used a domain of size 1 in x, that I can easily scale be dividing by the number of elements in x (L) of size h such that L\\*h=1 always. However there are (L+1)^2 nodes here for a square. There are therefore L\\*H elements in this construction.\n",
    "\n",
    "Then, the array coordinates is of shape ((L+1)\\*(H+1), 2), where each row is (x-position, y-position). I try to go anticlockwise for everynodes."
   ]
  },
  {
   "cell_type": "code",
   "execution_count": null,
   "metadata": {},
   "outputs": [],
   "source": [
    "#number of elements in x and y\n",
    "L=2\n",
    "H=2\n",
    "coordinates1=np.zeros(((L+1)*(H+1),2))\n",
    "i=0\n",
    "while True:\n",
    "    coordinates1[i,0]=(i%(L+1))/L\n",
    "    coordinates1[i,1]=i//(L+1)/L\n",
    "    i+=1\n",
    "    if i==(L+1)*(H+1):\n",
    "        break"
   ]
  },
  {
   "cell_type": "markdown",
   "metadata": {},
   "source": [
    "Now, it is time for the elements. So every element is defined counterclockwise. The array elements3 is of shape (2\\*L\\*H,3), where each row is like this (node1, node2, node3)."
   ]
  },
  {
   "cell_type": "code",
   "execution_count": null,
   "metadata": {},
   "outputs": [],
   "source": [
    "\"\"\"\n",
    "elements3=np.zeros((2*L*H,4))\n",
    "i=0\n",
    "while True:\n",
    "    elements3[i,0]=i\n",
    "    if (i-(i//(L)))%(L)==0:\n",
    "        elements3[i,1]=i-(i//(L+1))\n",
    "    if (i-(i//(L)))%(L)!=0:\n",
    "        elements3[i,1]=0\n",
    "    elements3[i,2]=(i+1)%2+i%2*(L+1)\n",
    "    elements3[i,3]=1\n",
    "    i+=1\n",
    "    if i==L*H*2:\n",
    "        break\n",
    "\"\"\"\n",
    "elements3=np.array([[0,1,3],[1,4,3],[1,2,4],[2,5,4],[3,4,6],[4,7,6],[4,5,7],[5,8,7]])"
   ]
  },
  {
   "cell_type": "markdown",
   "metadata": {},
   "source": [
    "Suppose now that the given square is such that on the sides it is the Neumann BC and on the top and bottom the Dirichlet BC. Both are size (2\\*H,2) and (2\\*L,2) respectively."
   ]
  },
  {
   "cell_type": "code",
   "execution_count": null,
   "metadata": {},
   "outputs": [],
   "source": [
    "\"these are triangle 0, 3, 4, 7 resp.\" \n",
    "neumannBC=np.array([[0,3],[2,5],[3,6],[5,8]])\n",
    "\"these are triangle 0, 2, 5, 7 resp.\"\n",
    "dirichletBC=np.array([[0,1],[1,2],[6,7],[7,8]])"
   ]
  },
  {
   "cell_type": "markdown",
   "metadata": {},
   "source": [
    "The next function is there in order to compute all the different part of the stiffness matrix (it is the M matrix in the manual).\n",
    "\n",
    "We also define the force function f. This is whatever we want it to be.\n",
    "\n",
    "And also the stress function g. This is for Neumann BC.\n",
    "\n",
    "And also the Dirichlet BC.\n",
    "\n",
    "And also the show function."
   ]
  },
  {
   "cell_type": "code",
   "execution_count": null,
   "metadata": {},
   "outputs": [],
   "source": [
    "def stima3(vertices):\n",
    "    \"function that takes in argument the vertices of a triangle and gives the corresponding stiffness\\\n",
    "    matrix part\"\n",
    "    d=np.size(vertices,1)\n",
    "    G=np.linalg.lstsq(np.concatenate((np.ones((1,d+1)),vertices.T),axis=0),\\\n",
    "                      np.concatenate((np.zeros((1,d)),np.eye(d))))\n",
    "    G=np.around(G[0])\n",
    "    M=np.linalg.det(np.concatenate((np.ones((1,d+1)),vertices.T),axis=0))\\\n",
    "    *(G@G.T)*np.prod(np.arange(1,d))\n",
    "    return M\n",
    "\n",
    "def f(x):\n",
    "    \"Insert here the proper function that one wants\"\n",
    "    return np.ones((np.size(x,axis=0)+1,1))\n",
    "\n",
    "def g(x):\n",
    "    \"Insert here the proper function that one wants\"\n",
    "    return np.zeros((np.size(x,axis=0),1))\n",
    "\n",
    "def u_d(x):\n",
    "    \"Insert here the proper function that one wants\"\n",
    "    return np.zeros((np.size(x,axis=0),1))\n",
    "\n",
    "def show(elements3,coordinates1,u):\n",
    "    fig=plt.figure()\n",
    "    ax=fig.gca(projection='3d')\n",
    "    ax.plot_trisurf(coordinates1[:,0],coordinates1[:,1],u.T)\n",
    "    return plt.show()\n",
    "    "
   ]
  },
  {
   "cell_type": "markdown",
   "metadata": {},
   "source": [
    "Now we define the free nodes which will reprensent the nodes not being forced to be something by Dirichlet. Also we define the stiffness matrix A and the output vector b.\n",
    "\n",
    "Then we can assemble our stiffness mastrix by a simple for loop."
   ]
  },
  {
   "cell_type": "code",
   "execution_count": null,
   "metadata": {},
   "outputs": [],
   "source": [
    "FreeNodes=np.setdiff1d(np.arange(0,np.size(coordinates1,0)),np.unique(dirichletBC,axis=0))\n",
    "A=np.zeros((np.size(coordinates1,0),np.size(coordinates1,0)))\n",
    "b=np.zeros((np.size(coordinates1,0),1))\n",
    "u=np.zeros((np.size(coordinates1,0),1))\n",
    "for j in np.arange(0,np.size(elements3,0)):\n",
    "    #assembly of stiffness matrix\n",
    "    A[np.ix_(elements3[j],elements3[j])]+=stima3(coordinates1[elements3[j]])\n",
    "    #volume force\n",
    "    b[np.ix_(elements3[j])]+=np.linalg.det(np.concatenate((np.ones((1,3)),coordinates1[elements3[j]].T),axis=0))\\\n",
    "    *f(np.sum(coordinates1[elements3[j]],axis=0)/3)/6"
   ]
  },
  {
   "cell_type": "markdown",
   "metadata": {},
   "source": [
    "Then we have to deal with the boundary conditions. First Neumann, than Dirichlet:"
   ]
  },
  {
   "cell_type": "code",
   "execution_count": null,
   "metadata": {},
   "outputs": [],
   "source": [
    "#Neumann\n",
    "for j in np.arange(0,np.size(neumannBC,0)):\n",
    "    b[np.ix_(neumannBC[j])]+=np.sqrt((coordinates1[neumannBC[j,0]]-coordinates1[neumannBC[j,1]])@\\\n",
    "                                    (coordinates1[neumannBC[j,0]]-coordinates1[neumannBC[j,1]]))\\\n",
    "    *g(np.sum(coordinates1[neumannBC[j]],axis=0)/2)/2\n",
    "\n",
    "#Dirichlet\n",
    "'The error here is somehow in the evalution of u'\n",
    "#u[(np.unique(dirichletBC,axis=0))]=u_d(coordinates1[np.unique(dirichletBC,axis=0)])\n",
    "b-=A@u"
   ]
  },
  {
   "cell_type": "markdown",
   "metadata": {},
   "source": [
    "Then, all is left is to compute the solution:"
   ]
  },
  {
   "cell_type": "code",
   "execution_count": null,
   "metadata": {},
   "outputs": [],
   "source": [
    "u[FreeNodes]=np.linalg.lstsq(A[np.ix_(FreeNodes,FreeNodes)],b[FreeNodes])[0]\n",
    "#show(elements3,coordinates1,u)"
   ]
  },
  {
   "cell_type": "markdown",
   "metadata": {},
   "source": [
    "For some reason, my 'show' function doesn't work... Also, I could not implement Dirichlet BC, altought I was pretty close to do it. This program should handle properly any domain. Here is it is a simple square  which is subdivised into 4 sqaures that are then split into 2 triangles each. But any triangulation, of any wierd shape domain should work, as long as the format of the coordinates and elements3 works. This code correctly computes the solution for the Laplace problem.\n",
    "\n",
    "As for the bissection implementation, I honestly don't know how to do this. I looked everywhere, read everybit I could find, and I just was not able to do it. I would like to see it however. And from that, I could not do the numerical experiments on finer mesh."
   ]
  },
  {
   "cell_type": "code",
   "execution_count": null,
   "metadata": {},
   "outputs": [],
   "source": []
  }
 ],
 "metadata": {
  "kernelspec": {
   "display_name": "Python 3",
   "language": "python",
   "name": "python3"
  },
  "language_info": {
   "codemirror_mode": {
    "name": "ipython",
    "version": 3
   },
   "file_extension": ".py",
   "mimetype": "text/x-python",
   "name": "python",
   "nbconvert_exporter": "python",
   "pygments_lexer": "ipython3",
   "version": "3.6.10"
  }
 },
 "nbformat": 4,
 "nbformat_minor": 4
}
